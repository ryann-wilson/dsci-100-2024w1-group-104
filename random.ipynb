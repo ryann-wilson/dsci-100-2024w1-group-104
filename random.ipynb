{
 "cells": [
  {
   "cell_type": "code",
   "execution_count": null,
   "id": "8dd0e1cc-284b-4545-a224-1bc1801111db",
   "metadata": {},
   "outputs": [],
   "source": [
    "player_count = sessions_data.groupby('start_hour').size().reset_index(name='player_count')\n",
    "\n",
    "# Merge back into the original data\n",
    "sessions_data = pd.merge(sessions_data, player_count, on='start_hour', how='left')\n",
    "sessions_data"
   ]
  }
 ],
 "metadata": {
  "kernelspec": {
   "display_name": "Python 3 (ipykernel)",
   "language": "python",
   "name": "python3"
  },
  "language_info": {
   "codemirror_mode": {
    "name": "ipython",
    "version": 3
   },
   "file_extension": ".py",
   "mimetype": "text/x-python",
   "name": "python",
   "nbconvert_exporter": "python",
   "pygments_lexer": "ipython3",
   "version": "3.11.9"
  }
 },
 "nbformat": 4,
 "nbformat_minor": 5
}
